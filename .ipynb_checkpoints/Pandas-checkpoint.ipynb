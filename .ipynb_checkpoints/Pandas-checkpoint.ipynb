{
 "cells": [
  {
   "cell_type": "code",
   "execution_count": 1,
   "id": "69f06ae7",
   "metadata": {},
   "outputs": [],
   "source": [
    "import pandas as pd"
   ]
  },
  {
   "cell_type": "code",
   "execution_count": 2,
   "id": "d2f3f298",
   "metadata": {},
   "outputs": [
    {
     "name": "stdout",
     "output_type": "stream",
     "text": [
      "x    1\n",
      "y    7\n",
      "z    2\n",
      "dtype: int64\n",
      "7\n",
      "7\n",
      "mon     100\n",
      "tues    200\n",
      "wed     300\n",
      "dtype: int64\n",
      "mon     100\n",
      "tues    200\n",
      "dtype: int64\n"
     ]
    }
   ],
   "source": [
    "#Pandas Series (i.e. 1 dimensional)\n",
    "a = [1, 7, 2]\n",
    "myvar = pd.Series(a, index = ['x','y','z']) #index change labels from default index values\n",
    "print(myvar)\n",
    "print(myvar[1])\n",
    "print(myvar['y'])\n",
    "\n",
    "calories = {\"mon\": 100, \"tues\": 200, \"wed\": 300} #for dictionary datasets, keys become labels\n",
    "myvar = pd.Series(calories)\n",
    "print(myvar)\n",
    "myvar2 = pd.Series(calories, index = ['mon', 'tues'])\n",
    "print(myvar2)"
   ]
  },
  {
   "cell_type": "code",
   "execution_count": 3,
   "id": "24285001",
   "metadata": {},
   "outputs": [
    {
     "name": "stdout",
     "output_type": "stream",
     "text": [
      "        car  high speed\n",
      "0      Audi         100\n",
      "1  Cadillac         200\n",
      "2  Mercedes         300\n",
      "car           Audi\n",
      "high speed     100\n",
      "Name: 0, dtype: object\n",
      "        car  high speed\n",
      "0      Audi         100\n",
      "1  Cadillac         200\n",
      "             car  high speed\n",
      "first       Audi         100\n",
      "second  Cadillac         200\n",
      "third   Mercedes         300\n",
      "             car  high speed\n",
      "second  Cadillac         200\n",
      "third   Mercedes         300\n"
     ]
    }
   ],
   "source": [
    "#Pandas Dataframe from a Python Dictionary (2d data structure like a table with rows and columns)\n",
    "mydataset = {\n",
    "    'car': [\"Audi\", \"Cadillac\", \"Mercedes\"],\n",
    "    'high speed': [100,200,300]\n",
    "}\n",
    "mydata = pd.DataFrame(mydataset)\n",
    "print(mydata)\n",
    "print(mydata.loc[0]) #to print data from a row (does so in key-value pair format), returns a pandas series\n",
    "print(mydata.loc[[0,1]]) #prints multiple rows, returns a dataframe\n",
    "\n",
    "mydata = pd.DataFrame(mydataset, index=['first', 'second', 'third']) #for custom indexes\n",
    "print(mydata)\n",
    "print(mydata.loc[['second', 'third']]) #prints select rows"
   ]
  },
  {
   "cell_type": "code",
   "execution_count": null,
   "id": "4dda1607",
   "metadata": {},
   "outputs": [],
   "source": [
    "#Importing .CSV file to Dataframe\n",
    "df_csv = pd.read_csv('exampledata.csv')\n",
    "print(df_csv)\n",
    "print(df_csv.to_string()) #prints the entire dataframe\n",
    "print(pd.options.display.max_rows) #print(df) will only print first/last 5 rows if more than this number is exceeded\n",
    "# pd.options.display.max_rows = any_number ... this statement can modify the number of rows displayed by default"
   ]
  },
  {
   "cell_type": "code",
   "execution_count": null,
   "id": "783f80e1",
   "metadata": {},
   "outputs": [],
   "source": [
    "#Importing JSON - for big data sets, written as plain text, formatted as dictionaries\n",
    "data_json = pd.read_json('examplejson.json')\n",
    "print(data_json.to_string())"
   ]
  },
  {
   "cell_type": "code",
   "execution_count": null,
   "id": "bb2d580d",
   "metadata": {},
   "outputs": [],
   "source": [
    "#ex. python dictionary into dataframe\n",
    "data = {\n",
    "  \"Duration\":{\n",
    "    \"0\":60,\n",
    "    \"1\":60,\n",
    "    \"2\":60,\n",
    "    \"3\":45,\n",
    "    \"4\":45,\n",
    "    \"5\":60\n",
    "  },\n",
    "  \"Pulse\":{\n",
    "    \"0\":110,\n",
    "    \"1\":117,\n",
    "    \"2\":103,\n",
    "    \"3\":109,\n",
    "    \"4\":117,\n",
    "    \"5\":102\n",
    "  },\n",
    "  \"Maxpulse\":{\n",
    "    \"0\":130,\n",
    "    \"1\":145,\n",
    "    \"2\":135,\n",
    "    \"3\":175,\n",
    "    \"4\":148,\n",
    "    \"5\":127\n",
    "  },\n",
    "  \"Calories\":{\n",
    "    \"0\":409,\n",
    "    \"1\":479,\n",
    "    \"2\":340,\n",
    "    \"3\":282,\n",
    "    \"4\":406,\n",
    "    \"5\":300\n",
    "  }\n",
    "}\n",
    "df1 = pd.DataFrame(data)\n",
    "print(df1)\n",
    "\n",
    "#Overview of Data from Select Number of Rows from Top\n",
    "print(df_csv.head(10))\n",
    "\n",
    "#Select Number of Rows from Botton + Header\n",
    "print(df_csv.tail(10))\n",
    "\n",
    "#Info About DataFrame - also tells you if there are null values in a column \n",
    "print(df_csv.info())\n"
   ]
  },
  {
   "cell_type": "code",
   "execution_count": null,
   "id": "53b89a3e",
   "metadata": {},
   "outputs": [],
   "source": [
    "#Data Cleaning - removing bad data (i.e. empty cells, wrong format, wrong data, duplicates, etc.)\n",
    "\n",
    "# a) Removing Empty Values\n",
    "tbcleaned_dataframe = pd.read_csv('dataset_to_clean.csv')\n",
    "dataframe2 = tbcleaned_dataframe.dropna() #returns new dataframe without rows that had empty cells, not changing original\n",
    "print(dataframe2) #if you used .dropna(inplace = True), would return original dataframe with rows containing empty cells removed\n",
    "\n",
    "dataframe21 = tbcleaned_dataframe.fillna(1) #fills empty cells with specified value\n",
    "print(dataframe21)\n",
    "\n",
    "dataframe22 = tbcleaned_dataframe[\"Calories\"].fillna(1) #only fills empty cells in specified column\n",
    "print(dataframe22)\n",
    "\n",
    "x = dataframe2[\"Calories\"].mean() #use .mean() .median() or .mode()[0] and put in .fillna to use those values\n",
    "\n",
    "# b) Wrong Format - convert to write format (ex. pd.to_datetime()) and remove rows will empty values\n",
    "\n",
    "# c) Wrong Data\n",
    "df_csv.loc[7,'Duration'] = 45 #for an error found ourself, can manually change\n",
    "print(df_csv.to_string())\n",
    "\n",
    "for x in df_csv.index:                  #for large datasets use loops (ex. seen here) to check for conditions\n",
    "  if df_csv.loc[x, \"Duration\"] > 120:\n",
    "    df_csv.loc[x, \"Duration\"] = 120\n",
    "\n",
    "for x in df_csv.index:                  #same example but removing rows instead of modifying\n",
    "  if df_csv.loc[x, \"Duration\"] > 120:\n",
    "    df_csv.drop(x, inplace = True)\n",
    "\n",
    "# d) Removing Duplicates\n",
    "print(df_csv.duplicated().to_string()) #returns true for every row that is a duplicate\n",
    "df_csv.drop_duplicates(inplace = True) #returns dataframe without duplicates"
   ]
  },
  {
   "cell_type": "code",
   "execution_count": null,
   "id": "721fc814",
   "metadata": {},
   "outputs": [],
   "source": [
    "#Correlations\n",
    "print(df_csv.corr()) #finds correlations between features, closer abs to |1| = correlations, closer to 0 = no correlation"
   ]
  }
 ],
 "metadata": {
  "kernelspec": {
   "display_name": "Python 3 (ipykernel)",
   "language": "python",
   "name": "python3"
  },
  "language_info": {
   "codemirror_mode": {
    "name": "ipython",
    "version": 3
   },
   "file_extension": ".py",
   "mimetype": "text/x-python",
   "name": "python",
   "nbconvert_exporter": "python",
   "pygments_lexer": "ipython3",
   "version": "3.11.4"
  }
 },
 "nbformat": 4,
 "nbformat_minor": 5
}
