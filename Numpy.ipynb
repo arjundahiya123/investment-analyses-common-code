{
 "cells": [
  {
   "cell_type": "code",
   "execution_count": 8,
   "id": "3fbee730",
   "metadata": {},
   "outputs": [],
   "source": [
    "import numpy as np #imports pandas with pd alias (common convention), can now refer to it using np"
   ]
  },
  {
   "cell_type": "code",
   "execution_count": 9,
   "id": "e2691517",
   "metadata": {},
   "outputs": [
    {
     "name": "stdout",
     "output_type": "stream",
     "text": [
      "[1 2 3 4 5]\n"
     ]
    }
   ],
   "source": [
    "#Creating a numpy array and assigning it to variable \"arr\", then printing the array\n",
    "arr = np.array([1,2,3,4,5])\n",
    "print(arr)"
   ]
  },
  {
   "cell_type": "code",
   "execution_count": 13,
   "id": "4da405c0",
   "metadata": {},
   "outputs": [
    {
     "name": "stdout",
     "output_type": "stream",
     "text": [
      "42\n",
      "[1 2 3]\n",
      "[[1 2 3]\n",
      " [4 5 6]]\n",
      "[[[ 1  2  3]\n",
      "  [ 4  5  6]]\n",
      "\n",
      " [[ 7  8  9]\n",
      "  [10 11 12]]]\n",
      "3\n"
     ]
    }
   ],
   "source": [
    "#Arrays of Different Dimensions\n",
    "arr0 = np.array(42) #0-D array\n",
    "print(arr0)\n",
    "\n",
    "arr1 = np.array([1,2,3]) #1-D array\n",
    "print(arr1)\n",
    "\n",
    "arr2 = np.array([[1,2,3],[4,5,6]]) #2-D Array\n",
    "print(arr2)\n",
    "\n",
    "arr3 = np.array([[[1,2,3], [4,5,6]], [[7,8,9],[10,11,12]]]) #3-D Array\n",
    "print(arr3)\n",
    "print(arr3.ndim) #finds number of dimensions"
   ]
  },
  {
   "cell_type": "code",
   "execution_count": 18,
   "id": "8259adf8",
   "metadata": {},
   "outputs": [
    {
     "name": "stdout",
     "output_type": "stream",
     "text": [
      "[2, 5, 8]\n",
      "[6, 7, 8, 9, 10]\n",
      "[7 8]\n",
      "[[1 2]\n",
      " [4 5]]\n"
     ]
    }
   ],
   "source": [
    "#Slicing Arrays\n",
    "arr_slice = [1,2,3,4,5,6,7,8,9,10]\n",
    "print(arr_slice[1::3]) #slices array in the form [start:end:step], excludes end index, step\n",
    "print(arr_slice[-5::]) #negative slicing, starts at 5th index from the end and print until the end inclusive (since left blank)\n",
    "\n",
    "arr_2d_slice = np.array([[1,2,3],[4,5,6],[7,8,9]])\n",
    "print(arr_2d_slice[2, -3:-1]) #elements -3 to -1 in array element 2 ([1,2,3] is array element 0, [7,8,9] is array element 2, so it prints the third-last to last (not including the last since last was not left blank))\n",
    "print(arr_2d_slice[0:2,0:2]) #elements 0 to 1 from 2d array elements 0 and 1"
   ]
  },
  {
   "cell_type": "code",
   "execution_count": 25,
   "id": "1acdcf9e",
   "metadata": {},
   "outputs": [
    {
     "name": "stdout",
     "output_type": "stream",
     "text": [
      "[4000]\n",
      "1\n"
     ]
    }
   ],
   "source": [
    "#Copying/Viewing the Array - view and base are less important\n",
    "array1 = np.array([1,2,3,4,5])\n",
    "array_copy = array1.copy() #creates a copy where changes will be independent of original, copy owns data\n",
    "array_type = array1.astype(\"U21\") #copy of array where you can specify new datatype, copy owns data\n",
    "array1 = np.array([4000])\n",
    "print(array1)\n",
    "print(array_copy[0])"
   ]
  },
  {
   "cell_type": "code",
   "execution_count": 27,
   "id": "242febe6",
   "metadata": {},
   "outputs": [
    {
     "name": "stdout",
     "output_type": "stream",
     "text": [
      "(3, 3)\n",
      "(1, 1, 1, 1, 3)\n"
     ]
    }
   ],
   "source": [
    "#Shape of the Array\n",
    "array_ex = np.array([[1,2,3], [4,5,6], [7,8,9]])\n",
    "print(array_ex.shape)\n",
    "arr5d = np.array([1,2,3], ndmin = 5)\n",
    "print(arr5d.shape)"
   ]
  },
  {
   "cell_type": "code",
   "execution_count": 30,
   "id": "c6b2cc0f",
   "metadata": {},
   "outputs": [
    {
     "name": "stdout",
     "output_type": "stream",
     "text": [
      "[[ 1  2  3]\n",
      " [ 4  5  6]\n",
      " [ 7  8  9]\n",
      " [10 11 12]]\n",
      "[[[ 1  2]\n",
      "  [ 3  4]]\n",
      "\n",
      " [[ 5  6]\n",
      "  [ 7  8]]\n",
      "\n",
      " [[ 9 10]\n",
      "  [11 12]]]\n"
     ]
    }
   ],
   "source": [
    "#Reshaping the Array\n",
    "arr = np.array([1, 2, 3, 4, 5, 6, 7, 8, 9, 10, 11, 12]) #1D array with shape 1 row x 12 columns\n",
    "arr_resized = arr.reshape(4,3) #2D array with shape 4 rows x 3 columns\n",
    "print(arr_resized)\n",
    "arr_resized2 = arr.reshape(3,2,2) #3D array of size 3x2x2\n",
    "print(arr_resized2)"
   ]
  },
  {
   "cell_type": "code",
   "execution_count": 37,
   "id": "22511b78",
   "metadata": {},
   "outputs": [
    {
     "name": "stdout",
     "output_type": "stream",
     "text": [
      "1\n",
      "2\n",
      "3\n",
      "1\n",
      "2\n",
      "3\n",
      "4\n",
      "5\n",
      "6\n",
      "7\n",
      "8\n",
      "1\n",
      "2\n",
      "3\n",
      "4\n",
      "5\n",
      "6\n",
      "7\n",
      "8\n",
      "1\n",
      "3\n",
      "5\n",
      "7\n",
      "(0, 0, 0) 1\n",
      "(0, 0, 1) 2\n",
      "(0, 1, 0) 3\n",
      "(0, 1, 1) 4\n",
      "(1, 0, 0) 5\n",
      "(1, 0, 1) 6\n",
      "(1, 1, 0) 7\n",
      "(1, 1, 1) 8\n"
     ]
    }
   ],
   "source": [
    "#Iterating Arrays\n",
    "arr1d = np.array([1,2,3])\n",
    "for x in arr1d:\n",
    "    print(x)\n",
    "\n",
    "arr3d = np.array([[[1,2],[3,4]],[[5,6],[7,8]]])\n",
    "for x in arr3d:\n",
    "    for y in x:\n",
    "        for z in y:\n",
    "            print(z)\n",
    "\n",
    "for x in np.nditer(arr3d): #nditer() can be used to prevent using numerous nested for loops\n",
    "    print(x)\n",
    "\n",
    "for x in np.nditer(arr3d[0:2,0:2,0:1:]): #slicing\n",
    "    print(x)\n",
    "\n",
    "\n",
    "for ind, x in np.ndenumerate(arr3d): #to print the index along with the value\n",
    "    print(ind, x)"
   ]
  },
  {
   "cell_type": "code",
   "execution_count": 40,
   "id": "99d30be0",
   "metadata": {},
   "outputs": [
    {
     "name": "stdout",
     "output_type": "stream",
     "text": [
      "[1 2 3]\n",
      "[4 5 6]\n",
      "[1 2 3 4 5 6]\n"
     ]
    }
   ],
   "source": [
    "#Joining Arrays\n",
    "ar1 = np.array([1,2,3])\n",
    "ar2 = np.array([4,5,6])\n",
    "print(ar1)\n",
    "print(ar2)\n",
    "print(np.concatenate((ar1,ar2))) #prints joint array"
   ]
  },
  {
   "cell_type": "code",
   "execution_count": 44,
   "id": "8e5b3582",
   "metadata": {},
   "outputs": [
    {
     "name": "stdout",
     "output_type": "stream",
     "text": [
      "[array([1, 2]), array([3, 4]), array([5, 6])]\n",
      "[array([1, 2]), array([3]), array([4]), array([5]), array([6])]\n",
      "2\n"
     ]
    }
   ],
   "source": [
    "#Splitting Arrays\n",
    "arr = np.array([1,2,3,4,5,6])\n",
    "print(np.split(arr,3)) #returned value is a list of 3 arrays, must result in an even division\n",
    "arsplit = np.array_split(arr,5) #array_split returns an array of arrays and allows for non-even division of elements\n",
    "print(arsplit)\n",
    "print(arsplit[0][1])\n"
   ]
  },
  {
   "cell_type": "code",
   "execution_count": 46,
   "id": "c7093626",
   "metadata": {},
   "outputs": [
    {
     "name": "stdout",
     "output_type": "stream",
     "text": [
      "(array([1, 3, 5, 6]),)\n",
      "1\n"
     ]
    }
   ],
   "source": [
    "#Searching Arrays\n",
    "arr = np.array([1, 2, 3, 4, 5, 4, 4])\n",
    "x = np.where(arr %2 == 0) #prints index locations where element divided by two has a remainder of 0 (i.e. element is even)\n",
    "print(x)\n",
    "\n",
    "arr = np.array([6, 7, 8, 9])\n",
    "x = np.searchsorted(arr, 6.8) #used for sorted arrays and returns index location where value should go\n",
    "print(x)"
   ]
  },
  {
   "cell_type": "code",
   "execution_count": 48,
   "id": "ad5ea05a",
   "metadata": {},
   "outputs": [
    {
     "name": "stdout",
     "output_type": "stream",
     "text": [
      "['apple' 'banana' 'carrot']\n",
      "[[2 3 4]\n",
      " [0 1 5]]\n"
     ]
    }
   ],
   "source": [
    "#Sorting Arrays\n",
    "arr = np.array(['banana', 'carrot', 'apple'])\n",
    "print(np.sort(arr)) #sorts element in array alphabetically in ascending order\n",
    "\n",
    "arr1 = np.array([[3, 2, 4], [5, 0, 1]])\n",
    "print(np.sort(arr1)) #sorts numbers in each 1D array in ascending order"
   ]
  },
  {
   "cell_type": "code",
   "execution_count": 51,
   "id": "c87682fb",
   "metadata": {},
   "outputs": [
    {
     "name": "stdout",
     "output_type": "stream",
     "text": [
      "[False, False, False, False, True, False, True, True, True, False, True, True, False, False, False, False]\n",
      "[ 65  75 234  54 234  65]\n",
      "[11 23 41 42 23 23 23 43 12 43]\n"
     ]
    }
   ],
   "source": [
    "#Filtering Arrays - done using a boolean index list\n",
    "arr = np.array([11, 23, 41, 42, 65, 23, 75, 234, 54, 23 ,234, 65, 23, 43, 12, 43]) #array or random numbers\n",
    "boo_arr = [] #empty boolean array\n",
    "for x in arr:\n",
    "    if x>50:\n",
    "        boo_arr.append(True) #if value in arr is greater than 50 adds \"True\" element to boolean array\n",
    "    else:\n",
    "        boo_arr.append(False) #otherwise adds \"False\" element to boolean array\n",
    "filtered_arr = arr[boo_arr] #new array filtered_list is equal to the array \"arr\" with the boolean filter applied (i.e. if true the element will be added to filtered_list and if false will not be added)\n",
    "print(boo_arr) #Prints list of boolean values\n",
    "print(filtered_arr) #prints the filtered array\n",
    "\n",
    "#simple way to achieve same task as above\n",
    "simple_filter = arr < 50\n",
    "newarr = arr[simple_filter]\n",
    "print(newarr)"
   ]
  }
 ],
 "metadata": {
  "kernelspec": {
   "display_name": "Python 3 (ipykernel)",
   "language": "python",
   "name": "python3"
  },
  "language_info": {
   "codemirror_mode": {
    "name": "ipython",
    "version": 3
   },
   "file_extension": ".py",
   "mimetype": "text/x-python",
   "name": "python",
   "nbconvert_exporter": "python",
   "pygments_lexer": "ipython3",
   "version": "3.11.4"
  }
 },
 "nbformat": 4,
 "nbformat_minor": 5
}
